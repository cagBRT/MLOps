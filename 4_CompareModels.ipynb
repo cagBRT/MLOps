{
  "nbformat": 4,
  "nbformat_minor": 0,
  "metadata": {
    "colab": {
      "private_outputs": true,
      "provenance": [],
      "authorship_tag": "ABX9TyOXOS9953mo4SvA4o7bXArA",
      "include_colab_link": true
    },
    "kernelspec": {
      "name": "python3",
      "display_name": "Python 3"
    },
    "language_info": {
      "name": "python"
    }
  },
  "cells": [
    {
      "cell_type": "markdown",
      "metadata": {
        "id": "view-in-github",
        "colab_type": "text"
      },
      "source": [
        "<a href=\"https://colab.research.google.com/github/cagBRT/MLOps/blob/main/4_CompareModels.ipynb\" target=\"_parent\"><img src=\"https://colab.research.google.com/assets/colab-badge.svg\" alt=\"Open In Colab\"/></a>"
      ]
    },
    {
      "cell_type": "code",
      "source": [
        "# Clone the entire repo.\n",
        "!git clone -s https://github.com/cagBRT/MLOps.git cloned-repo\n",
        "%cd cloned-repo"
      ],
      "metadata": {
        "id": "6tyyT4V_HP3u"
      },
      "execution_count": null,
      "outputs": []
    },
    {
      "cell_type": "code",
      "execution_count": null,
      "metadata": {
        "id": "26qNnqf9HfRW"
      },
      "outputs": [],
      "source": [
        "try:\n",
        "    import evidently\n",
        "except:\n",
        "    !pip install git+https://github.com/evidentlyai/evidently.git"
      ]
    },
    {
      "cell_type": "code",
      "source": [
        "!pip install catboost"
      ],
      "metadata": {
        "id": "beMKvcVojxR2"
      },
      "execution_count": null,
      "outputs": []
    },
    {
      "cell_type": "code",
      "source": [
        "#Import of the particular libraries \n",
        "import math\n",
        "import numpy as np\n",
        "import os \n",
        "import pandas as pd"
      ],
      "metadata": {
        "id": "kOJ7c7HTj03z"
      },
      "execution_count": null,
      "outputs": []
    },
    {
      "cell_type": "code",
      "source": [
        "from sklearn.ensemble import RandomForestClassifier\n",
        "from sklearn.model_selection import train_test_split\n",
        "from sklearn import metrics\n",
        "from catboost import CatBoostClassifier"
      ],
      "metadata": {
        "id": "ilAdVfnkj3WI"
      },
      "execution_count": null,
      "outputs": []
    },
    {
      "cell_type": "code",
      "source": [
        "from evidently.report import Report\n",
        "from evidently.metric_preset import ClassificationPreset\n",
        "from evidently.pipeline.column_mapping import ColumnMapping"
      ],
      "metadata": {
        "id": "0iCMphtKj520"
      },
      "execution_count": null,
      "outputs": []
    },
    {
      "cell_type": "code",
      "source": [
        "\n",
        "dataset = pd.read_csv(\"/content/cloned-repo/cloned-repo/WA_Fn-UseC_-HR-Employee-Attrition.csv\", sep = ',', header = 0)"
      ],
      "metadata": {
        "id": "t0lXBjV-j-zR"
      },
      "execution_count": null,
      "outputs": []
    },
    {
      "cell_type": "code",
      "source": [
        "dataset.head()"
      ],
      "metadata": {
        "id": "Sfq0QGnzk5Tq"
      },
      "execution_count": null,
      "outputs": []
    },
    {
      "cell_type": "code",
      "source": [
        "dataset.describe()"
      ],
      "metadata": {
        "id": "SxUtSt55k70n"
      },
      "execution_count": null,
      "outputs": []
    },
    {
      "cell_type": "code",
      "source": [
        "target_name = 'Attrition'\n"
      ],
      "metadata": {
        "id": "Gnbm771dlA9i"
      },
      "execution_count": null,
      "outputs": []
    },
    {
      "cell_type": "code",
      "source": [
        "numerique_features = ['Age', 'DailyRate', 'DistanceFromHome', 'Education', 'EnvironmentSatisfaction',\n",
        "                      'HourlyRate', 'JobInvolvement', 'JobLevel', 'JobSatisfaction', 'MonthlyIncome',\n",
        "                      'MonthlyRate', 'NumCompaniesWorked', 'PercentSalaryHike', 'PerformanceRating',\n",
        "                      'RelationshipSatisfaction','StockOptionLevel', 'TotalWorkingYears',\n",
        "                      'TrainingTimesLastYear', 'WorkLifeBalance', 'YearsAtCompany', 'YearsInCurrentRole',\n",
        "                      'YearsSinceLastPromotion', 'YearsWithCurrManager'\n",
        "                     ]\n"
      ],
      "metadata": {
        "id": "Jej4vfJ_lDSg"
      },
      "execution_count": null,
      "outputs": []
    },
    {
      "cell_type": "code",
      "source": [
        "categorical_features = ['BusinessTravel', 'Department', 'EducationField', 'Gender',\n",
        "                        'JobRole', 'MaritalStatus', 'OverTime'\n",
        "                       ]"
      ],
      "metadata": {
        "id": "oZDtcXQwlFoh"
      },
      "execution_count": null,
      "outputs": []
    },
    {
      "cell_type": "code",
      "source": [
        "processed_dataset = dataset.copy(deep = True)\n"
      ],
      "metadata": {
        "id": "1zC8hE4dlHpc"
      },
      "execution_count": null,
      "outputs": []
    },
    {
      "cell_type": "code",
      "source": [
        "processed_dataset.drop(columns = ['EmployeeCount', 'StandardHours', 'Over18'], inplace = True)"
      ],
      "metadata": {
        "id": "4pDinmVdlKCl"
      },
      "execution_count": null,
      "outputs": []
    },
    {
      "cell_type": "code",
      "source": [
        "processed_dataset.BusinessTravel.value_counts()"
      ],
      "metadata": {
        "id": "r00v-WcKlMEA"
      },
      "execution_count": null,
      "outputs": []
    },
    {
      "cell_type": "code",
      "source": [
        "business_travel_dummies = pd.get_dummies(processed_dataset.BusinessTravel, prefix = 'b_travel')\n",
        "processed_dataset = pd.concat([processed_dataset, business_travel_dummies], axis=1)"
      ],
      "metadata": {
        "id": "oMVh1apHlOAP"
      },
      "execution_count": null,
      "outputs": []
    },
    {
      "cell_type": "code",
      "source": [
        "dataset.Department.value_counts()"
      ],
      "metadata": {
        "id": "sTz4UIcjlQGm"
      },
      "execution_count": null,
      "outputs": []
    },
    {
      "cell_type": "code",
      "source": [
        "department_dummies = pd.get_dummies(processed_dataset.Department, prefix = 'department')\n",
        "processed_dataset = pd.concat([processed_dataset, department_dummies], axis=1)"
      ],
      "metadata": {
        "id": "OuYzA9YIlQOu"
      },
      "execution_count": null,
      "outputs": []
    },
    {
      "cell_type": "code",
      "source": [
        "dataset.EducationField.value_counts()"
      ],
      "metadata": {
        "id": "vN7nAdlFlQRi"
      },
      "execution_count": null,
      "outputs": []
    },
    {
      "cell_type": "code",
      "source": [
        "edu_field_dummies = pd.get_dummies(processed_dataset.Department, prefix = 'edu_field')\n",
        "processed_dataset = pd.concat([processed_dataset, edu_field_dummies], axis=1)"
      ],
      "metadata": {
        "id": "ecBsjbbAlQUp"
      },
      "execution_count": null,
      "outputs": []
    },
    {
      "cell_type": "code",
      "source": [
        "dataset.Gender.value_counts()"
      ],
      "metadata": {
        "id": "VLYvlOLalQXh"
      },
      "execution_count": null,
      "outputs": []
    },
    {
      "cell_type": "code",
      "source": [
        "processed_dataset['gender_bin'] = processed_dataset.Gender.apply(\n",
        "    lambda x : 0 if x == 'Male' else 1 if x == 'Female' else -1)"
      ],
      "metadata": {
        "id": "2uzx4Z-llQaY"
      },
      "execution_count": null,
      "outputs": []
    },
    {
      "cell_type": "code",
      "source": [
        "dataset.JobRole.value_counts()\n"
      ],
      "metadata": {
        "id": "8nKwIX3elQc_"
      },
      "execution_count": null,
      "outputs": []
    },
    {
      "cell_type": "code",
      "source": [
        "job_role_dummies = pd.get_dummies(processed_dataset.JobRole, prefix = 'job_role')\n",
        "processed_dataset = pd.concat([processed_dataset, job_role_dummies], axis=1)"
      ],
      "metadata": {
        "id": "pWWCjy3GlQf3"
      },
      "execution_count": null,
      "outputs": []
    },
    {
      "cell_type": "code",
      "source": [
        "dataset.MaritalStatus.value_counts()"
      ],
      "metadata": {
        "id": "2_ff5VMxlfnt"
      },
      "execution_count": null,
      "outputs": []
    },
    {
      "cell_type": "code",
      "source": [
        "marital_dummies = pd.get_dummies(processed_dataset.MaritalStatus, prefix = 'marital')\n",
        "processed_dataset = pd.concat([processed_dataset, marital_dummies], axis=1)"
      ],
      "metadata": {
        "id": "uQ5YOHeclfwy"
      },
      "execution_count": null,
      "outputs": []
    },
    {
      "cell_type": "code",
      "source": [
        "dataset.OverTime.value_counts()"
      ],
      "metadata": {
        "id": "0tjIq-nGlfzp"
      },
      "execution_count": null,
      "outputs": []
    },
    {
      "cell_type": "code",
      "source": [
        "overtime_dummies = pd.get_dummies(processed_dataset.OverTime, prefix = 'overtime')\n",
        "processed_dataset = pd.concat([processed_dataset, overtime_dummies], axis=1)"
      ],
      "metadata": {
        "id": "QjAoO7f_lf3T"
      },
      "execution_count": null,
      "outputs": []
    },
    {
      "cell_type": "code",
      "source": [
        "#drop initial categorical features\n",
        "processed_dataset.drop(columns = categorical_features, inplace = True)"
      ],
      "metadata": {
        "id": "di8ovDW5lf6r"
      },
      "execution_count": null,
      "outputs": []
    },
    {
      "cell_type": "code",
      "source": [
        "processed_dataset['target'] = processed_dataset.Attrition.apply(\n",
        "    lambda x : 0 if x == 'No' else 1 if x == 'Yes' else -1)\n"
      ],
      "metadata": {
        "id": "PTDxKwLqlf91"
      },
      "execution_count": null,
      "outputs": []
    },
    {
      "cell_type": "code",
      "source": [
        "features = ['Age','DailyRate', 'DistanceFromHome', 'Education',\n",
        "       'EmployeeNumber', 'EnvironmentSatisfaction', 'HourlyRate',\n",
        "       'JobInvolvement', 'JobLevel', 'JobSatisfaction', 'MonthlyIncome',\n",
        "       'MonthlyRate', 'NumCompaniesWorked', 'PercentSalaryHike',\n",
        "       'PerformanceRating', 'RelationshipSatisfaction', 'StockOptionLevel',\n",
        "       'TotalWorkingYears', 'TrainingTimesLastYear', 'WorkLifeBalance',\n",
        "       'YearsAtCompany', 'YearsInCurrentRole', 'YearsSinceLastPromotion',\n",
        "       'YearsWithCurrManager', 'b_travel_Non-Travel',\n",
        "       'b_travel_Travel_Frequently', 'b_travel_Travel_Rarely',\n",
        "       'department_Human Resources', 'department_Research & Development',\n",
        "       'department_Sales', 'edu_field_Human Resources',\n",
        "       'edu_field_Research & Development', 'edu_field_Sales', 'gender_bin',\n",
        "       'job_role_Healthcare Representative', 'job_role_Human Resources',\n",
        "       'job_role_Laboratory Technician', 'job_role_Manager',\n",
        "       'job_role_Manufacturing Director', 'job_role_Research Director',\n",
        "       'job_role_Research Scientist', 'job_role_Sales Executive',\n",
        "       'job_role_Sales Representative', 'marital_Divorced', 'marital_Married',\n",
        "       'marital_Single', 'overtime_No', 'overtime_Yes',]"
      ],
      "metadata": {
        "id": "S-WumggIlsYt"
      },
      "execution_count": null,
      "outputs": []
    },
    {
      "cell_type": "code",
      "source": [
        "RANDOM_STATE = 1603"
      ],
      "metadata": {
        "id": "GxHmZY2Dlsb0"
      },
      "execution_count": null,
      "outputs": []
    },
    {
      "cell_type": "code",
      "source": [
        "train_data, test_data, train_y, test_y = train_test_split(processed_dataset[features], processed_dataset.target,\n",
        "                                                   random_state = RANDOM_STATE, test_size = 0.25,\n",
        "                                                   stratify = processed_dataset.target)"
      ],
      "metadata": {
        "id": "eB6yyEpJlseZ"
      },
      "execution_count": null,
      "outputs": []
    },
    {
      "cell_type": "code",
      "source": [
        "rf = RandomForestClassifier(n_estimators=500, n_jobs = -1, random_state = 11)\n"
      ],
      "metadata": {
        "id": "MMeEl1M0lshA"
      },
      "execution_count": null,
      "outputs": []
    },
    {
      "cell_type": "code",
      "source": [
        "rf.fit(train_data[features], train_y)"
      ],
      "metadata": {
        "id": "jUkBkLWblsjn"
      },
      "execution_count": null,
      "outputs": []
    },
    {
      "cell_type": "code",
      "source": [
        "train_probas = pd.DataFrame(rf.predict_proba(train_data[features]))\n",
        "train_probas.columns = ['no', 'yes']\n",
        "test_probas = pd.DataFrame(rf.predict_proba(test_data[features]))\n",
        "test_probas.columns = ['no', 'yes']\n"
      ],
      "metadata": {
        "id": "vojvw-YKlsme"
      },
      "execution_count": null,
      "outputs": []
    },
    {
      "cell_type": "code",
      "source": [
        "train_data.reset_index(inplace=True, drop=True)\n",
        "train_data['Attrition'] = ['no' if x == 0 else 'yes' for x in train_y]\n",
        "rf_merged_train = pd.concat([train_data, train_probas], axis = 1)\n",
        "\n",
        "test_data.reset_index(inplace=True, drop=True)\n",
        "test_data['Attrition'] = ['no' if x == 0 else 'yes' for x in test_y]\n",
        "rf_merged_test = pd.concat([test_data, test_probas], axis = 1)"
      ],
      "metadata": {
        "id": "ljtnzI_el3c3"
      },
      "execution_count": null,
      "outputs": []
    },
    {
      "cell_type": "code",
      "source": [
        "column_mapping = ColumnMapping()\n",
        "\n",
        "column_mapping.target = 'Attrition'\n",
        "column_mapping.prediction = ['yes', 'no']\n",
        "column_mapping.pos_label = 'yes'\n",
        "\n",
        "column_mapping.numerical_features = ['Age','DailyRate', 'DistanceFromHome', 'Education',\n",
        "       'EmployeeNumber', 'EnvironmentSatisfaction', 'HourlyRate',\n",
        "       'JobInvolvement', 'JobLevel', 'JobSatisfaction', 'MonthlyIncome',\n",
        "       'MonthlyRate', 'NumCompaniesWorked', 'PercentSalaryHike',\n",
        "       'PerformanceRating', 'RelationshipSatisfaction', 'StockOptionLevel',\n",
        "       'TotalWorkingYears', 'TrainingTimesLastYear', 'WorkLifeBalance',\n",
        "       'YearsAtCompany', 'YearsInCurrentRole', 'YearsSinceLastPromotion',\n",
        "       'YearsWithCurrManager']\n",
        "\n",
        "column_mapping.categorical_features = ['b_travel_Non-Travel',\n",
        "       'b_travel_Travel_Frequently', 'b_travel_Travel_Rarely',\n",
        "       'department_Human Resources', 'department_Research & Development',\n",
        "       'department_Sales', 'edu_field_Human Resources',\n",
        "       'edu_field_Research & Development', 'edu_field_Sales', 'gender_bin',\n",
        "       'job_role_Healthcare Representative', 'job_role_Human Resources',\n",
        "       'job_role_Laboratory Technician', 'job_role_Manager',\n",
        "       'job_role_Manufacturing Director', 'job_role_Research Director',\n",
        "       'job_role_Research Scientist', 'job_role_Sales Executive',\n",
        "       'job_role_Sales Representative', 'marital_Divorced', 'marital_Married',\n",
        "       'marital_Single', 'overtime_No', 'overtime_Yes']"
      ],
      "metadata": {
        "id": "6rxBM6Ezl3fr"
      },
      "execution_count": null,
      "outputs": []
    },
    {
      "cell_type": "code",
      "source": [
        "classification_performance_report = Report(metrics=[\n",
        "    ClassificationPreset(),\n",
        "])\n",
        "\n",
        "classification_performance_report.run(reference_data=rf_merged_train, current_data=rf_merged_test, column_mapping = column_mapping)\n",
        "\n",
        "classification_performance_report"
      ],
      "metadata": {
        "id": "VVk4ToBMl3iT"
      },
      "execution_count": null,
      "outputs": []
    },
    {
      "cell_type": "code",
      "source": [
        "#classification_performance_report.save_html('ibm_hr_attrition_baseline_performance.html')"
      ],
      "metadata": {
        "id": "r1lIzjAIl3k4"
      },
      "execution_count": null,
      "outputs": []
    },
    {
      "cell_type": "code",
      "source": [
        "cat = CatBoostClassifier(random_state= 11, iterations=1600, learning_rate=0.008, class_weights = {0:1, 1:6})"
      ],
      "metadata": {
        "id": "VvhCCgPWl3ng"
      },
      "execution_count": null,
      "outputs": []
    },
    {
      "cell_type": "code",
      "source": [
        "cat.fit(train_data[features], train_y)"
      ],
      "metadata": {
        "id": "uK6_4xnTl3qH"
      },
      "execution_count": null,
      "outputs": []
    },
    {
      "cell_type": "code",
      "source": [
        "train_probas = pd.DataFrame(cat.predict_proba(train_data[features]))\n",
        "train_probas.columns = ['no', 'yes']\n",
        "test_probas = pd.DataFrame(cat.predict_proba(test_data[features]))\n",
        "test_probas.columns = ['no', 'yes']"
      ],
      "metadata": {
        "id": "drsXIJ4kl3su"
      },
      "execution_count": null,
      "outputs": []
    },
    {
      "cell_type": "code",
      "source": [
        "train_data.reset_index(inplace=True, drop=True)\n",
        "train_data['target'] = ['no' if x == 0 else 'yes' for x in train_y]\n",
        "cat_merged_train = pd.concat([train_data, train_probas], axis = 1)\n",
        "\n",
        "test_data.reset_index(inplace=True, drop=True)\n",
        "test_data['target'] = ['no' if x == 0 else 'yes' for x in test_y]\n",
        "cat_merged_test = pd.concat([test_data, test_probas], axis = 1)"
      ],
      "metadata": {
        "id": "yMzJ8OSul3vC"
      },
      "execution_count": null,
      "outputs": []
    },
    {
      "cell_type": "code",
      "source": [
        "classification_performance_report = Report(metrics=[\n",
        "    ClassificationPreset(),\n",
        "])\n",
        "\n",
        "classification_performance_report.run(reference_data=cat_merged_train, current_data=cat_merged_test, column_mapping = column_mapping)\n",
        "\n",
        "classification_performance_report"
      ],
      "metadata": {
        "id": "tvdf6tQnl3yL"
      },
      "execution_count": null,
      "outputs": []
    },
    {
      "cell_type": "code",
      "source": [
        "#classification_performance_report.save_html('ibm_hr_attrition_better_model_performance.html')"
      ],
      "metadata": {
        "id": "Mh9tVlNjmO9_"
      },
      "execution_count": null,
      "outputs": []
    },
    {
      "cell_type": "code",
      "source": [
        "classification_performance_report.run(reference_data=rf_merged_test, current_data=cat_merged_test, column_mapping = column_mapping)\n",
        "\n",
        "classification_performance_report"
      ],
      "metadata": {
        "id": "tWrLOocnmPBT"
      },
      "execution_count": null,
      "outputs": []
    },
    {
      "cell_type": "code",
      "source": [
        "#classification_performance_report.save_html('ibm_hr_attrition_model_comparison.html')"
      ],
      "metadata": {
        "id": "_gGhBNJOmPEu"
      },
      "execution_count": null,
      "outputs": []
    },
    {
      "cell_type": "code",
      "source": [],
      "metadata": {
        "id": "NfFZFu9OmPH1"
      },
      "execution_count": null,
      "outputs": []
    }
  ]
}