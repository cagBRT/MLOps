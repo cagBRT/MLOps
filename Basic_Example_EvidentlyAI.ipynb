{
  "nbformat": 4,
  "nbformat_minor": 0,
  "metadata": {
    "colab": {
      "private_outputs": true,
      "provenance": [],
      "authorship_tag": "ABX9TyPx/YeOJstq4ixrTFytEU3j",
      "include_colab_link": true
    },
    "kernelspec": {
      "name": "python3",
      "display_name": "Python 3"
    },
    "language_info": {
      "name": "python"
    }
  },
  "cells": [
    {
      "cell_type": "markdown",
      "metadata": {
        "id": "view-in-github",
        "colab_type": "text"
      },
      "source": [
        "<a href=\"https://colab.research.google.com/github/cagBRT/MLOps/blob/main/Basic_Example_EvidentlyAI.ipynb\" target=\"_parent\"><img src=\"https://colab.research.google.com/assets/colab-badge.svg\" alt=\"Open In Colab\"/></a>"
      ]
    },
    {
      "cell_type": "code",
      "source": [
        "from IPython.display import Image"
      ],
      "metadata": {
        "id": "QExOHJOWY2NG"
      },
      "execution_count": null,
      "outputs": []
    },
    {
      "cell_type": "code",
      "source": [
        "!git clone -l -s https://github.com/cagBRT/MLOps.git cloned-repo\n",
        "%cd cloned-repo"
      ],
      "metadata": {
        "id": "5Bw6JFa8Y0QV"
      },
      "execution_count": null,
      "outputs": []
    },
    {
      "cell_type": "markdown",
      "source": [
        "**Install Evidently AI**"
      ],
      "metadata": {
        "id": "MFc8eJmAX7kE"
      }
    },
    {
      "cell_type": "code",
      "execution_count": null,
      "metadata": {
        "id": "s9uF8XCLXZRG"
      },
      "outputs": [],
      "source": [
        "! pip install evidently"
      ]
    },
    {
      "cell_type": "markdown",
      "source": [
        "**Install the libraries**"
      ],
      "metadata": {
        "id": "NCmkdphAYBDa"
      }
    },
    {
      "cell_type": "code",
      "source": [
        "import pandas as pd\n",
        "\n",
        "from sklearn import datasets\n",
        "\n",
        "from evidently.test_suite import TestSuite\n",
        "from evidently.test_preset import DataStabilityTestPreset\n",
        "\n",
        "from evidently.report import Report\n",
        "from evidently.metric_preset import DataDriftPreset"
      ],
      "metadata": {
        "id": "4KmwRQ7iXhpT"
      },
      "execution_count": null,
      "outputs": []
    },
    {
      "cell_type": "code",
      "source": [
        "iris_data = datasets.load_iris(as_frame='auto')\n",
        "iris_frame = iris_data.frame"
      ],
      "metadata": {
        "id": "yrNENuUYbTtd"
      },
      "execution_count": null,
      "outputs": []
    },
    {
      "cell_type": "markdown",
      "source": [
        "The Iris dataset is small 150 rows with 4 features. <br>\n",
        "There are 3 classes of iris: Sentosa, Virginia, Versacolor"
      ],
      "metadata": {
        "id": "Q3MlgudgcaM4"
      }
    },
    {
      "cell_type": "code",
      "source": [
        "iris_frame.shape"
      ],
      "metadata": {
        "id": "TmVmwGRecT35"
      },
      "execution_count": null,
      "outputs": []
    },
    {
      "cell_type": "markdown",
      "source": [
        "#What is a Test Suite?<br>\n",
        "Test suite is a container that has a set of tests which helps testers in executing and reporting the test execution status. It can take any of the three states namely Active, Inprogress and completed.\n",
        "\n"
      ],
      "metadata": {
        "id": "gRdbNCppYD83"
      }
    },
    {
      "cell_type": "code",
      "source": [
        "Image(\"/content/cloned-repo/test_suite.jpeg\" , width=640)"
      ],
      "metadata": {
        "id": "nGZnur3CY7nO"
      },
      "execution_count": null,
      "outputs": []
    },
    {
      "cell_type": "markdown",
      "source": [
        "To use a TestSuite you need two datasets for comparison: reference and current. "
      ],
      "metadata": {
        "id": "zBTg6uSBaryd"
      }
    },
    {
      "cell_type": "markdown",
      "source": [
        "**TestSuite can import the following:** <br>\n",
        ">from evidently.test_suite import TestSuite<br>\n",
        "from evidently.tests import *<br>\n",
        "from evidently.test_preset import NoTargetPerformanceTestPreset<br>\n",
        "from evidently.test_preset import DataQualityTestPreset<br>\n",
        "from evidently.test_preset import DataStabilityTestPreset<br>\n",
        "from evidently.test_preset import DataDriftTestPreset<br>\n",
        "from evidently.test_preset import RegressionTestPreset<br>\n",
        "from evidently.test_preset import MulticlassClassificationTestPreset<br>\n",
        "from evidently.test_preset import BinaryClassificationTopKTestPreset<br>\n",
        "from evidently.test_preset import BinaryClassificationTestPreset<br>"
      ],
      "metadata": {
        "id": "KFJvEFq9a2_M"
      }
    },
    {
      "cell_type": "code",
      "source": [
        "data_stability= TestSuite(tests=[\n",
        "    DataStabilityTestPreset(),\n",
        "])\n",
        "data_stability.run(current_data=iris_frame.iloc[:60], reference_data=iris_frame.iloc[60:], column_mapping=None)\n",
        "data_stability "
      ],
      "metadata": {
        "id": "RmKjtVvXXo6R"
      },
      "execution_count": null,
      "outputs": []
    },
    {
      "cell_type": "code",
      "source": [
        "data_drift_report = Report(metrics=[\n",
        "    DataDriftPreset(),\n",
        "])\n",
        "\n",
        "data_drift_report.run(current_data=iris_frame.iloc[:60], reference_data=iris_frame.iloc[60:], column_mapping=None)\n",
        "data_drift_report"
      ],
      "metadata": {
        "id": "2iio1e_6Xo7w"
      },
      "execution_count": null,
      "outputs": []
    },
    {
      "cell_type": "markdown",
      "source": [
        "**Assignment**<br>\n",
        "\n",
        "The data was not split randomly for the test suite. The result was a non-similiar distribution of the reference and current datasets. <br>\n",
        "Let's use the train_test_split function to get a more equal distribution and run the test suite again. "
      ],
      "metadata": {
        "id": "TWpVSPX0kXSE"
      }
    },
    {
      "cell_type": "code",
      "source": [
        "from sklearn.model_selection import train_test_split\n",
        "\n",
        "# split into train test sets\n",
        "X_train, X_test, y_train, y_test = train_test_split(iris_frame.iloc[:,0:3], iris_frame.iloc[:,4], test_size=0.50, \n",
        "                                                    random_state=1)\n",
        "print(X_train.shape, X_test.shape, y_train.shape, y_test.shape)"
      ],
      "metadata": {
        "id": "JQz5qUIfdPKA"
      },
      "execution_count": null,
      "outputs": []
    },
    {
      "cell_type": "code",
      "source": [
        "iris_frame.iloc[:,0:3]"
      ],
      "metadata": {
        "id": "7iR3Gy4sg8di"
      },
      "execution_count": null,
      "outputs": []
    }
  ]
}