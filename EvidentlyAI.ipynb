{
  "nbformat": 4,
  "nbformat_minor": 0,
  "metadata": {
    "colab": {
      "private_outputs": true,
      "provenance": [],
      "authorship_tag": "ABX9TyMAauUP0QASzPIn7WMG2rZF",
      "include_colab_link": true
    },
    "kernelspec": {
      "name": "python3",
      "display_name": "Python 3"
    },
    "language_info": {
      "name": "python"
    }
  },
  "cells": [
    {
      "cell_type": "markdown",
      "metadata": {
        "id": "view-in-github",
        "colab_type": "text"
      },
      "source": [
        "<a href=\"https://colab.research.google.com/github/cagBRT/MLOps/blob/main/EvidentlyAI.ipynb\" target=\"_parent\"><img src=\"https://colab.research.google.com/assets/colab-badge.svg\" alt=\"Open In Colab\"/></a>"
      ]
    },
    {
      "cell_type": "markdown",
      "source": [
        "# Examining Data Drift over three weeks in the life of a production model"
      ],
      "metadata": {
        "id": "x-gZBAzgJEYV"
      }
    },
    {
      "cell_type": "markdown",
      "source": [
        "In this notebook, we will measure the drive in a model over three weeks of simulated production use."
      ],
      "metadata": {
        "id": "mhjuiZVXYueb"
      }
    },
    {
      "cell_type": "markdown",
      "source": [
        "The notebook uses an open source library called [Evidently](https://www.evidentlyai.com/)"
      ],
      "metadata": {
        "id": "vsxXjHI9JMyp"
      }
    },
    {
      "cell_type": "code",
      "source": [
        "# Clone the entire repo.\n",
        "!git clone -s https://github.com/cagBRT/MLOps.git cloned-repo\n",
        "%cd cloned-repo"
      ],
      "metadata": {
        "id": "6tyyT4V_HP3u"
      },
      "execution_count": null,
      "outputs": []
    },
    {
      "cell_type": "markdown",
      "source": [
        "**Import and install EvidentlyAI**"
      ],
      "metadata": {
        "id": "u3wOjaH_MeQI"
      }
    },
    {
      "cell_type": "code",
      "execution_count": null,
      "metadata": {
        "id": "26qNnqf9HfRW"
      },
      "outputs": [],
      "source": [
        "try:\n",
        "    import evidently\n",
        "except:\n",
        "    !pip install git+https://github.com/evidentlyai/evidently.git"
      ]
    },
    {
      "cell_type": "markdown",
      "source": [
        "**Import Libraries**"
      ],
      "metadata": {
        "id": "DqGOdvgZMirQ"
      }
    },
    {
      "cell_type": "code",
      "source": [
        "import pandas as pd\n",
        "import numpy as np\n",
        "import requests\n",
        "import zipfile\n",
        "import io\n",
        "\n",
        "from datetime import datetime, time\n",
        "from sklearn import datasets, ensemble\n",
        "\n",
        "from evidently import ColumnMapping\n",
        "from evidently.report import Report\n",
        "from evidently.metric_preset import DataDriftPreset, TargetDriftPreset, RegressionPreset"
      ],
      "metadata": {
        "id": "qk1ufLcDHkHO"
      },
      "execution_count": null,
      "outputs": []
    },
    {
      "cell_type": "markdown",
      "source": [
        "# Create a model to Predict Bike Rental Demand"
      ],
      "metadata": {
        "id": "TrT7CKq1VxvG"
      }
    },
    {
      "cell_type": "markdown",
      "source": [
        "Let's say we have only four weeks of data for our model, but we need to get it into production if possible."
      ],
      "metadata": {
        "id": "V8unCsNBZCzl"
      }
    },
    {
      "cell_type": "markdown",
      "source": [
        "**Get the data**"
      ],
      "metadata": {
        "id": "L2VNbImfMl3s"
      }
    },
    {
      "cell_type": "markdown",
      "source": [
        "Both hour.csv and day.csv have the following fields, except hr which is not available in day.csv\n",
        "\n",
        "- instant: record index\n",
        "- dteday : date\n",
        "- season : season (1:winter, 2:spring, 3:summer, 4:fall)\n",
        "- yr : year (0: 2011, 1:2012)\n",
        "- mnth : month ( 1 to 12)\n",
        "- hr : hour (0 to 23)\n",
        "- holiday : weather day is holiday or not (extracted from [Web Link])\n",
        "- weekday : day of the week\n",
        "- workingday : if day is neither weekend nor holiday is 1, otherwise is 0.\n",
        "+ weathersit :\n",
        "- 1: Clear, Few clouds, Partly cloudy, Partly cloudy\n",
        "- 2: Mist + Cloudy, Mist + Broken clouds, Mist + Few clouds, Mist\n",
        "- 3: Light Snow, Light Rain + Thunderstorm + Scattered clouds, Light Rain + Scattered clouds\n",
        "- 4: Heavy Rain + Ice Pallets + Thunderstorm + Mist, Snow + Fog\n",
        "- temp : Normalized temperature in Celsius. The values are derived via (t-t_min)/(t_max-t_min), t_min=-8, t_max=+39 (only in hourly scale)\n",
        "- atemp: Normalized feeling temperature in Celsius. The values are derived via (t-t_min)/(t_max-t_min), t_min=-16, t_max=+50 (only in hourly scale)\n",
        "- hum: Normalized humidity. The values are divided to 100 (max)\n",
        "- windspeed: Normalized wind speed. The values are divided to 67 (max)\n",
        "- casual: count of casual users\n",
        "- registered: count of registered users\n",
        "- cnt: count of total rental bikes including both casual and registered"
      ],
      "metadata": {
        "id": "qqWjhuiYRDWU"
      }
    },
    {
      "cell_type": "code",
      "source": [
        "content = requests.get(\"https://archive.ics.uci.edu/ml/machine-learning-databases/00275/Bike-Sharing-Dataset.zip\").content\n",
        "with zipfile.ZipFile(io.BytesIO(content)) as arc:\n",
        "    raw_data = pd.read_csv(arc.open(\"hour.csv\"), header=0, sep=',', parse_dates=['dteday'], index_col='dteday')\n"
      ],
      "metadata": {
        "id": "Epxq7n-DHrjl"
      },
      "execution_count": null,
      "outputs": []
    },
    {
      "cell_type": "code",
      "source": [
        "raw_data.index = raw_data.apply(\n",
        "    lambda row: datetime.combine(row.name, time(hour=int(row['hr']))), axis = 1)"
      ],
      "metadata": {
        "id": "B8D1nRbAHuG1"
      },
      "execution_count": null,
      "outputs": []
    },
    {
      "cell_type": "code",
      "source": [
        "raw_data.shape"
      ],
      "metadata": {
        "id": "gYO4ABFNNOYJ"
      },
      "execution_count": null,
      "outputs": []
    },
    {
      "cell_type": "code",
      "source": [
        "raw_data.head()"
      ],
      "metadata": {
        "id": "55H5I7RgHwpa"
      },
      "execution_count": null,
      "outputs": []
    },
    {
      "cell_type": "code",
      "source": [
        "raw_data.columns"
      ],
      "metadata": {
        "id": "S1Qa-IHLRqh7"
      },
      "execution_count": null,
      "outputs": []
    },
    {
      "cell_type": "markdown",
      "source": [
        "We want to predict the total number of bikes rented.<br>\n",
        "The 'cnt' column will the labels. <br>\n",
        "\n",
        "The columns of casual renters and registered renters can be dropped for this prediction. "
      ],
      "metadata": {
        "id": "BZztyQDwRTxw"
      }
    },
    {
      "cell_type": "markdown",
      "source": [
        "The numerical features for this model are: <br>\n",
        ">temp, atemp, hum, windspeed, hr, weekday\n",
        "\n",
        "The categorical features are:<br>\n",
        ">season, holiday, workingday"
      ],
      "metadata": {
        "id": "bUxjVbcdSB6Z"
      }
    },
    {
      "cell_type": "code",
      "source": [
        "target = 'cnt'\n",
        "prediction = 'prediction'\n",
        "numerical_features = ['temp', 'atemp', 'hum', 'windspeed', 'hr', 'weekday']\n",
        "categorical_features = ['season', 'holiday', 'workingday']\n"
      ],
      "metadata": {
        "id": "hutJBw1_Hz4b"
      },
      "execution_count": null,
      "outputs": []
    },
    {
      "cell_type": "markdown",
      "source": [
        "Our training data is for four weeks beginning on Jan 1, 2011"
      ],
      "metadata": {
        "id": "D4N3c0p7ZYqG"
      }
    },
    {
      "cell_type": "markdown",
      "source": [
        "The past or reference data begins on Jan 1, 2011. <br>\n",
        "The current data of production release is Feb 28, 2011"
      ],
      "metadata": {
        "id": "fqCjhC22Snjz"
      }
    },
    {
      "cell_type": "code",
      "source": [
        "reference = raw_data.loc['2011-01-01 00:00:00':'2011-01-28 23:00:00']\n",
        "current = raw_data.loc['2011-01-29 00:00:00':'2011-02-28 23:00:00']\n"
      ],
      "metadata": {
        "id": "ArBp62mhH4Dp"
      },
      "execution_count": null,
      "outputs": []
    },
    {
      "cell_type": "code",
      "source": [
        "reference.head()\n"
      ],
      "metadata": {
        "id": "LrVwT9XRH60v"
      },
      "execution_count": null,
      "outputs": []
    },
    {
      "cell_type": "markdown",
      "source": [
        "The model we will use is an ensemble RandomForestRegressor\n",
        "\n",
        "\n",
        "---\n",
        "\n",
        "# Example of Graphing a Random Forest Regressor "
      ],
      "metadata": {
        "id": "U_10noQHS9CL"
      }
    },
    {
      "cell_type": "markdown",
      "source": [
        "This example shows the graphing of a Random Forest Regressor<br>\n",
        "We use the Breast Cancer dataset to predict if given specific features is the biopsy cancerous or not"
      ],
      "metadata": {
        "id": "JVQj1FbXZjp_"
      }
    },
    {
      "cell_type": "code",
      "source": [
        "import matplotlib.pyplot as plt\n",
        "from sklearn.datasets import load_breast_cancer\n",
        "from sklearn import tree\n",
        "from sklearn.ensemble import RandomForestClassifier\n",
        "from sklearn.model_selection import train_test_split"
      ],
      "metadata": {
        "id": "A0AF_aLOZ2RK"
      },
      "execution_count": null,
      "outputs": []
    },
    {
      "cell_type": "code",
      "source": [
        "# Load the Breast Cancer Dataset\n",
        "data = load_breast_cancer()\n",
        "df = pd.DataFrame(data.data, columns=data.feature_names)\n",
        "df['target'] = data.target"
      ],
      "metadata": {
        "id": "_hjiKNvQZ4PU"
      },
      "execution_count": null,
      "outputs": []
    },
    {
      "cell_type": "code",
      "source": [
        "df"
      ],
      "metadata": {
        "id": "ZczgSZRMZ9n2"
      },
      "execution_count": null,
      "outputs": []
    },
    {
      "cell_type": "code",
      "source": [
        "# Arrange Data into Features Matrix and Target Vector\n",
        "X = df.loc[:, df.columns != 'target']\n",
        "y = df.loc[:, 'target'].values\n",
        "\n",
        "# Split the data into training and testing sets\n",
        "X_train, X_test, Y_train, Y_test = train_test_split(X, y, random_state=0)"
      ],
      "metadata": {
        "id": "t8iDALNLaKkI"
      },
      "execution_count": null,
      "outputs": []
    },
    {
      "cell_type": "code",
      "source": [
        "# Random Forests in `scikit-learn` (with N = 100)\n",
        "rf = RandomForestClassifier(n_estimators=100,\n",
        "                            random_state=0)\n",
        "rf.fit(X_train.values, Y_train)\n",
        "n_estimators=100"
      ],
      "metadata": {
        "id": "WZEG6AZ_M95h"
      },
      "execution_count": null,
      "outputs": []
    },
    {
      "cell_type": "code",
      "source": [
        "from sklearn.metrics import accuracy_score\n",
        "estimatorAccuracy=[]\n",
        "for curEstimator in range(n_estimators):\n",
        "        estimatorAccuracy.append([curEstimator,accuracy_score(y, rf.estimators_[curEstimator].predict(X.values))])\n",
        "\n",
        "estimatorAccuracy=pd.DataFrame(estimatorAccuracy,columns=['estimatorNumber','Accuracy'])\n",
        "estimatorAccuracy.sort_values(inplace=True,by='Accuracy',ascending=False)\n",
        "\n",
        "bestDecisionTree= rf.estimators_[estimatorAccuracy.head(1)['estimatorNumber'].values[0]]\n",
        "bestDecisionTree"
      ],
      "metadata": {
        "id": "Nj-Z2gcSNZFR"
      },
      "execution_count": null,
      "outputs": []
    },
    {
      "cell_type": "markdown",
      "source": [
        "**Graph the first tree**"
      ],
      "metadata": {
        "id": "fFQZfjmOatn0"
      }
    },
    {
      "cell_type": "code",
      "source": [
        "fn=data.feature_names\n",
        "cn=data.target_names\n",
        "fig, axes = plt.subplots(nrows = 1,ncols = 1,figsize = (4,4), dpi=800)\n",
        "tree.plot_tree(rf.estimators_[0],\n",
        "               feature_names = fn, \n",
        "               class_names=cn,\n",
        "               filled = True);\n",
        "fig.savefig('rf_individualtree.png')"
      ],
      "metadata": {
        "id": "T7OxvyJ1NBwL"
      },
      "execution_count": null,
      "outputs": []
    },
    {
      "cell_type": "markdown",
      "source": [
        "**Graph the first five trees**"
      ],
      "metadata": {
        "id": "NV4nJmLVak51"
      }
    },
    {
      "cell_type": "code",
      "source": [
        "# This may not the best way to view each estimator as it is small\n",
        "fn=data.feature_names\n",
        "cn=data.target_names\n",
        "fig, axes = plt.subplots(nrows = 1,ncols = 5,figsize = (10,2), dpi=900)\n",
        "for index in range(0, 5):\n",
        "    tree.plot_tree(rf.estimators_[index],\n",
        "                   feature_names = fn, \n",
        "                   class_names=cn,\n",
        "                   filled = True,\n",
        "                   ax = axes[index]);\n",
        "\n",
        "    axes[index].set_title('Estimator: ' + str(index), fontsize = 11)\n",
        "fig.savefig('rf_5trees.png')"
      ],
      "metadata": {
        "id": "tJAq-Ak3NFef"
      },
      "execution_count": null,
      "outputs": []
    },
    {
      "cell_type": "markdown",
      "source": [
        "# End of Example"
      ],
      "metadata": {
        "id": "VySFW9buSGcp"
      }
    },
    {
      "cell_type": "markdown",
      "source": [
        "\n",
        "\n",
        "---\n",
        "\n"
      ],
      "metadata": {
        "id": "dXrglxYKXcAX"
      }
    },
    {
      "cell_type": "markdown",
      "source": [
        "**For our Bicycle Prediction of Demand we will use a Random Forest Regressor Model**"
      ],
      "metadata": {
        "id": "oXrLBjhsVmdX"
      }
    },
    {
      "cell_type": "markdown",
      "source": [
        "Estimators - number of trees in the forest, in this case we are using 50<br>\n",
        "The default number is 100"
      ],
      "metadata": {
        "id": "zm51Q49XWKUE"
      }
    },
    {
      "cell_type": "code",
      "source": [
        "regressor = ensemble.RandomForestRegressor(random_state = 0, n_estimators = 50)"
      ],
      "metadata": {
        "id": "LMOdQhEHH9_4"
      },
      "execution_count": null,
      "outputs": []
    },
    {
      "cell_type": "markdown",
      "source": [
        "**Train and predict with the model**"
      ],
      "metadata": {
        "id": "GNrpFgmGWfax"
      }
    },
    {
      "cell_type": "code",
      "source": [
        "regressor.fit(reference[numerical_features + categorical_features], reference[target])"
      ],
      "metadata": {
        "id": "kBUUt9IHIBAX"
      },
      "execution_count": null,
      "outputs": []
    },
    {
      "cell_type": "code",
      "source": [
        "ref_prediction = regressor.predict(reference[numerical_features + categorical_features])\n",
        "current_prediction = regressor.predict(current[numerical_features + categorical_features])"
      ],
      "metadata": {
        "id": "kjegjL06IE1b"
      },
      "execution_count": null,
      "outputs": []
    },
    {
      "cell_type": "code",
      "source": [
        "reference['prediction'] = ref_prediction\n",
        "current['prediction'] = current_prediction"
      ],
      "metadata": {
        "id": "dRd9gOI4IHtE"
      },
      "execution_count": null,
      "outputs": []
    },
    {
      "cell_type": "markdown",
      "source": [
        "**Let's look at how the model performs**<br>\n",
        "# Week 1<br>\n",
        "\n",
        "We only learn the actual rental demand at the end of each week. "
      ],
      "metadata": {
        "id": "haLoc8qQXeuf"
      }
    },
    {
      "cell_type": "markdown",
      "source": [
        "The monitoring of the model occurs only once per week, after getting the ground truth values"
      ],
      "metadata": {
        "id": "LOR8UpARbFeg"
      }
    },
    {
      "cell_type": "code",
      "source": [
        "column_mapping = ColumnMapping()\n",
        "\n",
        "column_mapping.target = target\n",
        "column_mapping.prediction = prediction\n",
        "column_mapping.numerical_features = numerical_features\n",
        "column_mapping.categorical_features = categorical_features"
      ],
      "metadata": {
        "id": "MNk5HqtJIKjY"
      },
      "execution_count": null,
      "outputs": []
    },
    {
      "cell_type": "markdown",
      "source": [
        "**Request the report on the model performance**"
      ],
      "metadata": {
        "id": "sIF86KNRbYRf"
      }
    },
    {
      "cell_type": "code",
      "source": [
        "regression_perfomance = Report(metrics=[RegressionPreset()])\n",
        "regression_perfomance.run(current_data=reference, reference_data=None, column_mapping=column_mapping)"
      ],
      "metadata": {
        "id": "P-bSkud5IM7P"
      },
      "execution_count": null,
      "outputs": []
    },
    {
      "cell_type": "code",
      "source": [
        "regression_perfomance.show()"
      ],
      "metadata": {
        "id": "gWyAWnvBINXE"
      },
      "execution_count": null,
      "outputs": []
    },
    {
      "cell_type": "code",
      "source": [
        "regression_perfomance.save_html('regression_performance_at_training.html')"
      ],
      "metadata": {
        "id": "SA9Uf9OLINaJ"
      },
      "execution_count": null,
      "outputs": []
    },
    {
      "cell_type": "markdown",
      "source": [
        "week 1"
      ],
      "metadata": {
        "id": "QcImSiCaIWb3"
      }
    },
    {
      "cell_type": "code",
      "source": [
        "regression_perfomance = Report(metrics=[RegressionPreset()])\n",
        "regression_perfomance.run(current_data=current.loc['2011-01-29 00:00:00':'2011-02-07 23:00:00'], \n",
        "                          reference_data=reference,\n",
        "                          column_mapping=column_mapping)\n",
        "\n",
        "regression_perfomance.show()"
      ],
      "metadata": {
        "id": "GXIIDqTNINcw"
      },
      "execution_count": null,
      "outputs": []
    },
    {
      "cell_type": "code",
      "source": [
        "#regression_perfomance.save('reports/regression_performance_after_week1.html')"
      ],
      "metadata": {
        "id": "fCPZeslkINfW"
      },
      "execution_count": null,
      "outputs": []
    },
    {
      "cell_type": "code",
      "source": [
        "target_drift = Report(metrics=[TargetDriftPreset()])\n",
        "target_drift.run(current_data=current.loc['2011-01-29 00:00:00':'2011-02-07 23:00:00'],\n",
        "                 reference_data=reference,\n",
        "                 column_mapping=column_mapping)\n",
        "\n",
        "target_drift.show()"
      ],
      "metadata": {
        "id": "AxSAS1-JINh9"
      },
      "execution_count": null,
      "outputs": []
    },
    {
      "cell_type": "code",
      "source": [
        "#target_drift.save('reports/target_drift_after_week1.html')"
      ],
      "metadata": {
        "id": "9p_VxAAbINlF"
      },
      "execution_count": null,
      "outputs": []
    },
    {
      "cell_type": "markdown",
      "source": [
        "# week 2"
      ],
      "metadata": {
        "id": "JZFVKAoyIhR8"
      }
    },
    {
      "cell_type": "code",
      "source": [
        "regression_perfomance = Report(metrics=[RegressionPreset()])\n",
        "regression_perfomance.run(current_data=current.loc['2011-02-07 00:00:00':'2011-02-14 23:00:00'], \n",
        "                          reference_data=reference,\n",
        "                          column_mapping=column_mapping)\n",
        "\n",
        "regression_perfomance.show()\n"
      ],
      "metadata": {
        "id": "YaotrVtWINn9"
      },
      "execution_count": null,
      "outputs": []
    },
    {
      "cell_type": "code",
      "source": [
        "#regression_perfomance.save('reports/regression_performance_after_week2.html')"
      ],
      "metadata": {
        "id": "oxAxX34KImrz"
      },
      "execution_count": null,
      "outputs": []
    },
    {
      "cell_type": "code",
      "source": [
        "target_drift = Report(metrics=[TargetDriftPreset()])\n",
        "target_drift.run(current_data=current.loc['2011-02-07 00:00:00':'2011-02-14 23:00:00'],\n",
        "                 reference_data=reference,\n",
        "                 column_mapping=column_mapping)\n",
        "\n",
        "target_drift.show()\n"
      ],
      "metadata": {
        "id": "TwFsc7KgIo-s"
      },
      "execution_count": null,
      "outputs": []
    },
    {
      "cell_type": "code",
      "source": [
        "#target_drift.save('reports/target_drift_after_week2.html')"
      ],
      "metadata": {
        "id": "yz87V-dxIqsT"
      },
      "execution_count": null,
      "outputs": []
    },
    {
      "cell_type": "markdown",
      "source": [
        "# Week 3"
      ],
      "metadata": {
        "id": "1X5ieOowIrsr"
      }
    },
    {
      "cell_type": "code",
      "source": [
        "regression_perfomance = Report(metrics=[RegressionPreset()])\n",
        "regression_perfomance.run(current_data=current.loc['2011-02-15 00:00:00':'2011-02-21 23:00:00'], \n",
        "                          reference_data=reference,\n",
        "                          column_mapping=column_mapping)\n",
        "\n",
        "regression_perfomance.show()\n"
      ],
      "metadata": {
        "id": "VP_j7hJNIsjo"
      },
      "execution_count": null,
      "outputs": []
    },
    {
      "cell_type": "code",
      "source": [
        "#regression_perfomance.save('reports/regression_performance_after_week3.html')"
      ],
      "metadata": {
        "id": "lsaVIK1QIspU"
      },
      "execution_count": null,
      "outputs": []
    },
    {
      "cell_type": "code",
      "source": [
        "target_drift = Report(metrics=[TargetDriftPreset()])\n",
        "target_drift.run(current_data=current.loc['2011-02-15 00:00:00':'2011-02-21 23:00:00'],\n",
        "                 reference_data=reference,\n",
        "                 column_mapping=column_mapping)\n",
        "\n",
        "target_drift.show()"
      ],
      "metadata": {
        "id": "lPo186roIss-"
      },
      "execution_count": null,
      "outputs": []
    },
    {
      "cell_type": "code",
      "source": [
        "#target_drift.save('reports/target_drift_after_week3.html')\n"
      ],
      "metadata": {
        "id": "4MammLhiIswF"
      },
      "execution_count": null,
      "outputs": []
    },
    {
      "cell_type": "markdown",
      "source": [
        "# Data Drift"
      ],
      "metadata": {
        "id": "IjcPVXi0I4z2"
      }
    },
    {
      "cell_type": "code",
      "source": [
        "column_mapping = ColumnMapping()\n",
        "\n",
        "column_mapping.numerical_features = numerical_features"
      ],
      "metadata": {
        "id": "_XLvwQ_wIszw"
      },
      "execution_count": null,
      "outputs": []
    },
    {
      "cell_type": "code",
      "source": [
        "data_drift = Report(metrics = [DataDriftPreset()])\n",
        "data_drift.run(current_data = current.loc['2011-01-29 00:00:00':'2011-02-07 23:00:00'],\n",
        "               reference_data = reference,\n",
        "               column_mapping=column_mapping)\n",
        "\n",
        "data_drift.show()\n"
      ],
      "metadata": {
        "id": "CTO4pW2wIs22"
      },
      "execution_count": null,
      "outputs": []
    },
    {
      "cell_type": "code",
      "source": [
        "#data_drift.save(\"reports/data_drift_dashboard_after_week1.html\")"
      ],
      "metadata": {
        "id": "UnnqfDnaIs5_"
      },
      "execution_count": null,
      "outputs": []
    }
  ]
}