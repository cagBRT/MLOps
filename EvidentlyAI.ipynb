{
  "nbformat": 4,
  "nbformat_minor": 0,
  "metadata": {
    "colab": {
      "private_outputs": true,
      "provenance": [],
      "authorship_tag": "ABX9TyMszlvO2E3lMacb6DlW42fm",
      "include_colab_link": true
    },
    "kernelspec": {
      "name": "python3",
      "display_name": "Python 3"
    },
    "language_info": {
      "name": "python"
    }
  },
  "cells": [
    {
      "cell_type": "markdown",
      "metadata": {
        "id": "view-in-github",
        "colab_type": "text"
      },
      "source": [
        "<a href=\"https://colab.research.google.com/github/cagBRT/MLOps/blob/main/EvidentlyAI.ipynb\" target=\"_parent\"><img src=\"https://colab.research.google.com/assets/colab-badge.svg\" alt=\"Open In Colab\"/></a>"
      ]
    },
    {
      "cell_type": "markdown",
      "source": [
        "Examining Data Drift over three weeks in the life of a model"
      ],
      "metadata": {
        "id": "x-gZBAzgJEYV"
      }
    },
    {
      "cell_type": "markdown",
      "source": [
        "The notebook uses an open source library called [Evidently](https://www.evidentlyai.com/)"
      ],
      "metadata": {
        "id": "vsxXjHI9JMyp"
      }
    },
    {
      "cell_type": "code",
      "execution_count": null,
      "metadata": {
        "id": "26qNnqf9HfRW"
      },
      "outputs": [],
      "source": [
        "try:\n",
        "    import evidently\n",
        "except:\n",
        "    !pip install git+https://github.com/evidentlyai/evidently.git"
      ]
    },
    {
      "cell_type": "code",
      "source": [
        "import pandas as pd\n",
        "import numpy as np\n",
        "import requests\n",
        "import zipfile\n",
        "import io\n",
        "\n",
        "from datetime import datetime, time\n",
        "from sklearn import datasets, ensemble\n",
        "\n",
        "from evidently import ColumnMapping\n",
        "from evidently.report import Report\n",
        "from evidently.metric_preset import DataDriftPreset, TargetDriftPreset, RegressionPreset"
      ],
      "metadata": {
        "id": "qk1ufLcDHkHO"
      },
      "execution_count": null,
      "outputs": []
    },
    {
      "cell_type": "code",
      "source": [
        "content = requests.get(\"https://archive.ics.uci.edu/ml/machine-learning-databases/00275/Bike-Sharing-Dataset.zip\").content\n",
        "with zipfile.ZipFile(io.BytesIO(content)) as arc:\n",
        "    raw_data = pd.read_csv(arc.open(\"hour.csv\"), header=0, sep=',', parse_dates=['dteday'], index_col='dteday')\n"
      ],
      "metadata": {
        "id": "Epxq7n-DHrjl"
      },
      "execution_count": null,
      "outputs": []
    },
    {
      "cell_type": "code",
      "source": [
        "raw_data.index = raw_data.apply(\n",
        "    lambda row: datetime.combine(row.name, time(hour=int(row['hr']))), axis = 1)"
      ],
      "metadata": {
        "id": "B8D1nRbAHuG1"
      },
      "execution_count": null,
      "outputs": []
    },
    {
      "cell_type": "code",
      "source": [
        "raw_data.head()\n"
      ],
      "metadata": {
        "id": "55H5I7RgHwpa"
      },
      "execution_count": null,
      "outputs": []
    },
    {
      "cell_type": "code",
      "source": [
        "target = 'cnt'\n",
        "prediction = 'prediction'\n",
        "numerical_features = ['temp', 'atemp', 'hum', 'windspeed', 'hr', 'weekday']\n",
        "categorical_features = ['season', 'holiday', 'workingday']\n"
      ],
      "metadata": {
        "id": "hutJBw1_Hz4b"
      },
      "execution_count": null,
      "outputs": []
    },
    {
      "cell_type": "code",
      "source": [
        "reference = raw_data.loc['2011-01-01 00:00:00':'2011-01-28 23:00:00']\n",
        "current = raw_data.loc['2011-01-29 00:00:00':'2011-02-28 23:00:00']\n"
      ],
      "metadata": {
        "id": "ArBp62mhH4Dp"
      },
      "execution_count": null,
      "outputs": []
    },
    {
      "cell_type": "code",
      "source": [
        "reference.head()\n"
      ],
      "metadata": {
        "id": "LrVwT9XRH60v"
      },
      "execution_count": null,
      "outputs": []
    },
    {
      "cell_type": "code",
      "source": [
        "regressor = ensemble.RandomForestRegressor(random_state = 0, n_estimators = 50)"
      ],
      "metadata": {
        "id": "LMOdQhEHH9_4"
      },
      "execution_count": null,
      "outputs": []
    },
    {
      "cell_type": "code",
      "source": [
        "regressor.fit(reference[numerical_features + categorical_features], reference[target])"
      ],
      "metadata": {
        "id": "kBUUt9IHIBAX"
      },
      "execution_count": null,
      "outputs": []
    },
    {
      "cell_type": "code",
      "source": [
        "ref_prediction = regressor.predict(reference[numerical_features + categorical_features])\n",
        "current_prediction = regressor.predict(current[numerical_features + categorical_features])"
      ],
      "metadata": {
        "id": "kjegjL06IE1b"
      },
      "execution_count": null,
      "outputs": []
    },
    {
      "cell_type": "code",
      "source": [
        "\n",
        "reference['prediction'] = ref_prediction\n",
        "current['prediction'] = current_prediction\n"
      ],
      "metadata": {
        "id": "dRd9gOI4IHtE"
      },
      "execution_count": null,
      "outputs": []
    },
    {
      "cell_type": "code",
      "source": [
        "column_mapping = ColumnMapping()\n",
        "\n",
        "column_mapping.target = target\n",
        "column_mapping.prediction = prediction\n",
        "column_mapping.numerical_features = numerical_features\n",
        "column_mapping.categorical_features = categorical_features"
      ],
      "metadata": {
        "id": "MNk5HqtJIKjY"
      },
      "execution_count": null,
      "outputs": []
    },
    {
      "cell_type": "code",
      "source": [
        "regression_perfomance = Report(metrics=[RegressionPreset()])\n",
        "regression_perfomance.run(current_data=reference, reference_data=None, column_mapping=column_mapping)"
      ],
      "metadata": {
        "id": "P-bSkud5IM7P"
      },
      "execution_count": null,
      "outputs": []
    },
    {
      "cell_type": "code",
      "source": [
        "regression_perfomance.show()\n"
      ],
      "metadata": {
        "id": "gWyAWnvBINXE"
      },
      "execution_count": null,
      "outputs": []
    },
    {
      "cell_type": "code",
      "source": [
        "#regression_perfomance.save('reports/regression_performance_at_training.html')"
      ],
      "metadata": {
        "id": "SA9Uf9OLINaJ"
      },
      "execution_count": null,
      "outputs": []
    },
    {
      "cell_type": "markdown",
      "source": [
        "week 1"
      ],
      "metadata": {
        "id": "QcImSiCaIWb3"
      }
    },
    {
      "cell_type": "code",
      "source": [
        "regression_perfomance = Report(metrics=[RegressionPreset()])\n",
        "regression_perfomance.run(current_data=current.loc['2011-01-29 00:00:00':'2011-02-07 23:00:00'], \n",
        "                          reference_data=reference,\n",
        "                          column_mapping=column_mapping)\n",
        "\n",
        "regression_perfomance.show()"
      ],
      "metadata": {
        "id": "GXIIDqTNINcw"
      },
      "execution_count": null,
      "outputs": []
    },
    {
      "cell_type": "code",
      "source": [
        "#regression_perfomance.save('reports/regression_performance_after_week1.html')"
      ],
      "metadata": {
        "id": "fCPZeslkINfW"
      },
      "execution_count": null,
      "outputs": []
    },
    {
      "cell_type": "code",
      "source": [
        "target_drift = Report(metrics=[TargetDriftPreset()])\n",
        "target_drift.run(current_data=current.loc['2011-01-29 00:00:00':'2011-02-07 23:00:00'],\n",
        "                 reference_data=reference,\n",
        "                 column_mapping=column_mapping)\n",
        "\n",
        "target_drift.show()"
      ],
      "metadata": {
        "id": "AxSAS1-JINh9"
      },
      "execution_count": null,
      "outputs": []
    },
    {
      "cell_type": "code",
      "source": [
        "#target_drift.save('reports/target_drift_after_week1.html')"
      ],
      "metadata": {
        "id": "9p_VxAAbINlF"
      },
      "execution_count": null,
      "outputs": []
    },
    {
      "cell_type": "markdown",
      "source": [
        "week 2"
      ],
      "metadata": {
        "id": "JZFVKAoyIhR8"
      }
    },
    {
      "cell_type": "code",
      "source": [
        "regression_perfomance = Report(metrics=[RegressionPreset()])\n",
        "regression_perfomance.run(current_data=current.loc['2011-02-07 00:00:00':'2011-02-14 23:00:00'], \n",
        "                          reference_data=reference,\n",
        "                          column_mapping=column_mapping)\n",
        "\n",
        "regression_perfomance.show()\n"
      ],
      "metadata": {
        "id": "YaotrVtWINn9"
      },
      "execution_count": null,
      "outputs": []
    },
    {
      "cell_type": "code",
      "source": [
        "#regression_perfomance.save('reports/regression_performance_after_week2.html')"
      ],
      "metadata": {
        "id": "oxAxX34KImrz"
      },
      "execution_count": null,
      "outputs": []
    },
    {
      "cell_type": "code",
      "source": [
        "target_drift = Report(metrics=[TargetDriftPreset()])\n",
        "target_drift.run(current_data=current.loc['2011-02-07 00:00:00':'2011-02-14 23:00:00'],\n",
        "                 reference_data=reference,\n",
        "                 column_mapping=column_mapping)\n",
        "\n",
        "target_drift.show()\n"
      ],
      "metadata": {
        "id": "TwFsc7KgIo-s"
      },
      "execution_count": null,
      "outputs": []
    },
    {
      "cell_type": "code",
      "source": [
        "#target_drift.save('reports/target_drift_after_week2.html')\n"
      ],
      "metadata": {
        "id": "yz87V-dxIqsT"
      },
      "execution_count": null,
      "outputs": []
    },
    {
      "cell_type": "markdown",
      "source": [
        "week 3"
      ],
      "metadata": {
        "id": "1X5ieOowIrsr"
      }
    },
    {
      "cell_type": "code",
      "source": [
        "regression_perfomance = Report(metrics=[RegressionPreset()])\n",
        "regression_perfomance.run(current_data=current.loc['2011-02-15 00:00:00':'2011-02-21 23:00:00'], \n",
        "                          reference_data=reference,\n",
        "                          column_mapping=column_mapping)\n",
        "\n",
        "regression_perfomance.show()\n"
      ],
      "metadata": {
        "id": "VP_j7hJNIsjo"
      },
      "execution_count": null,
      "outputs": []
    },
    {
      "cell_type": "code",
      "source": [
        "#regression_perfomance.save('reports/regression_performance_after_week3.html')"
      ],
      "metadata": {
        "id": "lsaVIK1QIspU"
      },
      "execution_count": null,
      "outputs": []
    },
    {
      "cell_type": "code",
      "source": [
        "target_drift = Report(metrics=[TargetDriftPreset()])\n",
        "target_drift.run(current_data=current.loc['2011-02-15 00:00:00':'2011-02-21 23:00:00'],\n",
        "                 reference_data=reference,\n",
        "                 column_mapping=column_mapping)\n",
        "\n",
        "target_drift.show()"
      ],
      "metadata": {
        "id": "lPo186roIss-"
      },
      "execution_count": null,
      "outputs": []
    },
    {
      "cell_type": "code",
      "source": [
        "#target_drift.save('reports/target_drift_after_week3.html')\n"
      ],
      "metadata": {
        "id": "4MammLhiIswF"
      },
      "execution_count": null,
      "outputs": []
    },
    {
      "cell_type": "markdown",
      "source": [
        "data drift"
      ],
      "metadata": {
        "id": "IjcPVXi0I4z2"
      }
    },
    {
      "cell_type": "code",
      "source": [
        "column_mapping = ColumnMapping()\n",
        "\n",
        "column_mapping.numerical_features = numerical_features"
      ],
      "metadata": {
        "id": "_XLvwQ_wIszw"
      },
      "execution_count": null,
      "outputs": []
    },
    {
      "cell_type": "code",
      "source": [
        "data_drift = Report(metrics = [DataDriftPreset()])\n",
        "data_drift.run(current_data = current.loc['2011-01-29 00:00:00':'2011-02-07 23:00:00'],\n",
        "               reference_data = reference,\n",
        "               column_mapping=column_mapping)\n",
        "\n",
        "data_drift.show()\n"
      ],
      "metadata": {
        "id": "CTO4pW2wIs22"
      },
      "execution_count": null,
      "outputs": []
    },
    {
      "cell_type": "code",
      "source": [
        "#data_drift.save(\"reports/data_drift_dashboard_after_week1.html\")"
      ],
      "metadata": {
        "id": "UnnqfDnaIs5_"
      },
      "execution_count": null,
      "outputs": []
    },
    {
      "cell_type": "code",
      "source": [],
      "metadata": {
        "id": "xm4TCNxFIs9H"
      },
      "execution_count": null,
      "outputs": []
    },
    {
      "cell_type": "code",
      "source": [],
      "metadata": {
        "id": "BJMry0b6ItAP"
      },
      "execution_count": null,
      "outputs": []
    },
    {
      "cell_type": "code",
      "source": [],
      "metadata": {
        "id": "vuutSj5nItD3"
      },
      "execution_count": null,
      "outputs": []
    }
  ]
}